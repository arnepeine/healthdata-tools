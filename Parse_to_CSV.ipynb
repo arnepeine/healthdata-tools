{
  "nbformat": 4,
  "nbformat_minor": 0,
  "metadata": {
    "colab": {
      "name": "Parse to CSV",
      "version": "0.3.2",
      "provenance": [],
      "collapsed_sections": [],
      "include_colab_link": true
    },
    "kernelspec": {
      "name": "python3",
      "display_name": "Python 3"
    }
  },
  "cells": [
    {
      "cell_type": "markdown",
      "metadata": {
        "id": "view-in-github",
        "colab_type": "text"
      },
      "source": [
        "<a href=\"https://colab.research.google.com/github/arnepeine/healthdata-tools/blob/master/Parse_to_CSV.ipynb\" target=\"_parent\"><img src=\"https://colab.research.google.com/assets/colab-badge.svg\" alt=\"Open In Colab\"/></a>"
      ]
    },
    {
      "metadata": {
        "id": "JME1koXKG7H6",
        "colab_type": "code",
        "colab": {
          "base_uri": "https://localhost:8080/",
          "height": 102
        },
        "outputId": "4ca8021a-9912-403b-a2ff-b0dbaa007d98"
      },
      "cell_type": "code",
      "source": [
        "!pip install xmltodict\n",
        "!pip install pprint\n",
        "!pip install json\n"
      ],
      "execution_count": 162,
      "outputs": [
        {
          "output_type": "stream",
          "text": [
            "Requirement already satisfied: xmltodict in /usr/local/lib/python3.6/dist-packages (0.11.0)\n",
            "Requirement already satisfied: pprint in /usr/local/lib/python3.6/dist-packages (0.1)\n",
            "Collecting json\n",
            "\u001b[31m  Could not find a version that satisfies the requirement json (from versions: )\u001b[0m\n",
            "\u001b[31mNo matching distribution found for json\u001b[0m\n"
          ],
          "name": "stdout"
        }
      ]
    },
    {
      "metadata": {
        "id": "EgX_oEDkKbAj",
        "colab_type": "code",
        "colab": {
          "base_uri": "https://localhost:8080/",
          "height": 241
        },
        "outputId": "6a8d47ac-bf77-4f25-e42f-61d49e7e89d9"
      },
      "cell_type": "code",
      "source": [
        "import xmltodict\n",
        "import urllib.request\n",
        "import csv\n",
        "import codecs\n",
        "import random\n",
        "import collections\n",
        "\n",
        "def read_pmid_list(url): \n",
        "  ftpstream = urllib.request.urlopen(url)\n",
        "  csvfile = csv.reader(codecs.iterdecode(ftpstream, 'utf-8'))\n",
        "  list = []\n",
        "  for line in csvfile:\n",
        "      list.append(line)\n",
        "  return list\n",
        "\n",
        "def pmid_to_abstract_dict(pmid):\n",
        "  url = \"https://eutils.ncbi.nlm.nih.gov/entrez/eutils/efetch.fcgi?db=pubmed&id={}&retmode=xml&api_key=17125fb065fc6424d89836e4e4542f659608&rettype=abstract\".format(pmid)\n",
        "  file = urllib.request.urlopen(url)\n",
        "  data = file.read()\n",
        "  file.close()\n",
        "  data = xmltodict.parse(data)\n",
        "  \n",
        "  \n",
        "  abstract=data[\"PubmedArticleSet\"][\"PubmedArticle\"][\"MedlineCitation\"][\"Article\"][\"Abstract\"][\"AbstractText\"] \n",
        "  #If it is a single string\n",
        "  if isinstance(abstract, str):\n",
        "    output = abstract\n",
        "    \n",
        "  #Else it is a dict\n",
        "  else:\n",
        "    \n",
        "    for element in liste:\n",
        "    output = abstract\n",
        "  \n",
        "  return output\n",
        "\n",
        "def pmid_to_journal_name(pmid):\n",
        "  url = \"https://eutils.ncbi.nlm.nih.gov/entrez/eutils/efetch.fcgi?db=pubmed&id={}&retmode=xml&api_key=17125fb065fc6424d89836e4e4542f659608&rettype=abstract\".format(pmid)\n",
        "  file = urllib.request.urlopen(url)\n",
        "  data = file.read()\n",
        "  file.close()\n",
        "  data = xmltodict.parse(data)\n",
        "  title=data[\"PubmedArticleSet\"][\"PubmedArticle\"][\"MedlineCitation\"][\"MedlineJournalInfo\"][\"MedlineTA\"]\n",
        "  return title\n",
        "\n",
        "def print_abstract_elements(abstract_dict):\n",
        "  for element in liste:\n",
        "    print(element[\"@Label\"])\n",
        "    print(element[\"#text\"])\n",
        "\n",
        "    \n",
        "def full_abstract_and_title(pmid):\n",
        "  abstract_dict = pmid_to_abstract_dict(pmid)\n",
        "  for element in abstract_dict:\n",
        "    element\n",
        "  journal_name = pmid_to_journal_name(pmid)\n",
        "  return journal_name, abstract_dict\n",
        "  \n",
        "\n",
        "\n",
        "ordered = pmid_to_abstract_dict(25179977)\n",
        "not_ordered = pmid_to_abstract_dict(25075773)\n",
        "\n",
        "\n",
        "      \n",
        "print(full_abstract_and_title(25179977))\n",
        "#print(full_abstract_and_title(25075773))\n",
        "#print(full_abstract_and_title(25252696))\n",
        "\n",
        "\n",
        "\n",
        "csv_list = read_pmid_list(\"https://docs.google.com/spreadsheets/d/e/2PACX-1vTIFkNZSZOqvMWkgL0zjulARCOEzxdSVrbLcCJ38inv10Rf0isNVM0F2OpASt8EEmy0-OS7xLoGuAhx/pub?output=csv\")\n",
        "\n",
        "for element in csv_list:\n",
        "   try:\n",
        "      print(full_abstract_and_title(element))  \n",
        "   except KeyError as name:  \n",
        "      print (\"Paper does not exist\", name)\n",
        "      continue\n",
        "   \n",
        "\n",
        "\n"
      ],
      "execution_count": 212,
      "outputs": [
        {
          "output_type": "stream",
          "text": [
            "('Heart Surg Forum', [OrderedDict([('@Label', 'BACKGROUND'), ('@NlmCategory', 'BACKGROUND'), ('#text', 'To evaluate the impact of remote ischemic preconditioning (RIPC) on clinical outcome, biological markers of myocardial injury, and its safety in patients undergoing on-pump coronary artery bypass grafting (CABG).')]), OrderedDict([('@Label', 'MATERIAL AND METHODS'), ('@NlmCategory', 'METHODS'), ('#text', 'This study was conducted at Ch. Pervaiz Elahi Institute of Cardiology (CPEIC) in Multan. The study took place from March 2012 to June 2013. Patients were randomly placed into two groups. Group A (N = 32) did not undergo RIPC; Group B (N = 35) received RIPC after induction of anesthesia. Similar standard general anesthesia, cardiopulmonary technique, myocardial protection strategies, and surgical techniques were used in both groups except the protocol for RIPC. Following postoperative outcome, i.e. cardiac defibrillation after removal of aortic cross clamp during the period of rewarming, demand for intra-aortic balloon pump (IABP), demand for antiarrhythmic before leaving the operation room, postoperative creatine kinase-myocardial band (CK-MB) level (at 1h, 12h, 24h, and 48h after surgery), postoperative serum creatinine level on first postoperative day, postoperative ejection fraction (EF) on third postoperative day, in-hospital mortality, and one-year mortality were noted, prospectively. Safety of protocol of RIPC was estimated by limb ischemia monitored by pulse oximetry during and after procedure of RIPC and postoperative neurapraxia by nerve examination of right upper limb.')]), OrderedDict([('@Label', 'RESULTS'), ('@NlmCategory', 'RESULTS'), ('#text', 'Post aortic cross clamp release cardiac defibrillation, demand for IABP, demand for high inotropes, and use of antiarrhythmic in the operation room were statistically insignificant in the non-RIPC and RIPC group with P values of .54, .78, .16, and .16, respectively. Mean postoperative CK-MB level (IU/L) showed the following results: At 1h (Group A 20.94 + 1.66, Group B 20.57 + 1.54, P = .35), at 12h (Group A 27.13 + 1.85, Group B 28.05 + 3.04, P = .135), at 24h (Group A 27.63 + 1.7, Group B 27.85 + 2.2, P = .63), and at 48h (Group A 22.95 + 2.76, Group B 23.27 + 3.6, P = .69). First postoperative day serum creatinine (Group A 1.29 + 0.395, Group B 1.33 + 0.57, P = .77) and postoperative ejection fraction percentage on the third postoperative day (Group A 50.78 + 8.72, Group B 50.57 + 8.38, P = .92) showed no statistical difference between two groups. Postoperative low cardiac output state, in-hospital mortality, and one-year mortality also were statistically insignificant between the groups with P values of .93, .29, and .33, respectively. None of the patients in either group showed evidence of limb ischemia and neurapraxia of the right upper limb.')]), OrderedDict([('@Label', 'CONCLUSION'), ('@NlmCategory', 'CONCLUSIONS'), ('#text', 'RIPC is a safe technique, but it does not have additional clinical benefit after on-pump CABG surgery in the presence of a standard myocardial protective strategy.')])])\n",
            "('Heart Surg Forum', [OrderedDict([('@Label', 'BACKGROUND'), ('@NlmCategory', 'BACKGROUND'), ('#text', 'To evaluate the impact of remote ischemic preconditioning (RIPC) on clinical outcome, biological markers of myocardial injury, and its safety in patients undergoing on-pump coronary artery bypass grafting (CABG).')]), OrderedDict([('@Label', 'MATERIAL AND METHODS'), ('@NlmCategory', 'METHODS'), ('#text', 'This study was conducted at Ch. Pervaiz Elahi Institute of Cardiology (CPEIC) in Multan. The study took place from March 2012 to June 2013. Patients were randomly placed into two groups. Group A (N = 32) did not undergo RIPC; Group B (N = 35) received RIPC after induction of anesthesia. Similar standard general anesthesia, cardiopulmonary technique, myocardial protection strategies, and surgical techniques were used in both groups except the protocol for RIPC. Following postoperative outcome, i.e. cardiac defibrillation after removal of aortic cross clamp during the period of rewarming, demand for intra-aortic balloon pump (IABP), demand for antiarrhythmic before leaving the operation room, postoperative creatine kinase-myocardial band (CK-MB) level (at 1h, 12h, 24h, and 48h after surgery), postoperative serum creatinine level on first postoperative day, postoperative ejection fraction (EF) on third postoperative day, in-hospital mortality, and one-year mortality were noted, prospectively. Safety of protocol of RIPC was estimated by limb ischemia monitored by pulse oximetry during and after procedure of RIPC and postoperative neurapraxia by nerve examination of right upper limb.')]), OrderedDict([('@Label', 'RESULTS'), ('@NlmCategory', 'RESULTS'), ('#text', 'Post aortic cross clamp release cardiac defibrillation, demand for IABP, demand for high inotropes, and use of antiarrhythmic in the operation room were statistically insignificant in the non-RIPC and RIPC group with P values of .54, .78, .16, and .16, respectively. Mean postoperative CK-MB level (IU/L) showed the following results: At 1h (Group A 20.94 + 1.66, Group B 20.57 + 1.54, P = .35), at 12h (Group A 27.13 + 1.85, Group B 28.05 + 3.04, P = .135), at 24h (Group A 27.63 + 1.7, Group B 27.85 + 2.2, P = .63), and at 48h (Group A 22.95 + 2.76, Group B 23.27 + 3.6, P = .69). First postoperative day serum creatinine (Group A 1.29 + 0.395, Group B 1.33 + 0.57, P = .77) and postoperative ejection fraction percentage on the third postoperative day (Group A 50.78 + 8.72, Group B 50.57 + 8.38, P = .92) showed no statistical difference between two groups. Postoperative low cardiac output state, in-hospital mortality, and one-year mortality also were statistically insignificant between the groups with P values of .93, .29, and .33, respectively. None of the patients in either group showed evidence of limb ischemia and neurapraxia of the right upper limb.')]), OrderedDict([('@Label', 'CONCLUSION'), ('@NlmCategory', 'CONCLUSIONS'), ('#text', 'RIPC is a safe technique, but it does not have additional clinical benefit after on-pump CABG surgery in the presence of a standard myocardial protective strategy.')])])\n",
            "('Nicotine Tob Res', [OrderedDict([('@Label', 'INTRODUCTION'), ('@NlmCategory', 'BACKGROUND'), ('#text', 'Gradually reducing cigarette consumption is an approach used to quit smoking, but has not been widely studied at a population level. The purpose of this study was to assess the prevalence and demographic characteristics of U.S. adult smokers who tried to reduce to quit, and the relationship between reducing and successful quitting.')]), OrderedDict([('@Label', 'METHODS'), ('@NlmCategory', 'METHODS'), ('#text', 'Data came from 12,571 adults in the 2010-2011 Tobacco Use Supplement to the Current Population Survey who tried to quit smoking in the past year. Frequencies and percentages were used to assess prevalence of reducing to quit; bivariate and multiple logistic regression models were used to assess correlates of reducing to quit and successful past year cessation. Analyses were conducted in SAS-callable SUDAAN.')]), OrderedDict([('@Label', 'RESULTS'), ('@NlmCategory', 'RESULTS'), ('#text', 'Among adults who tried to quit smoking in the past year, 43.0% (n = 5,444) tried reducing to quit. Compared to those who tried to quit without reducing consumption, those reducing to quit had a significantly higher prevalence of using counseling or medication (40.2% vs. 25.0%). In adjusted multivariable models, females (vs. males), Blacks (vs. Whites), current some day smokers (vs. every day smokers), and those who used counseling or medication had greater odds of trying to reduce to quit. Reducing to quit was negatively associated with successful past-year quitting (AOR = 0.59, 95% CI = 0.48, 0.72).')]), OrderedDict([('@Label', 'CONCLUSION'), ('@NlmCategory', 'CONCLUSIONS'), ('#text', 'Reducing to quit is a common cessation strategy and, in these analyses, was associated with lower cessation success rates. More research on reducing to quit in a real-world setting is needed before widely recommending it as a cessation strategy.')])])\n",
            "Paper does not exist 'Abstract'\n",
            "('Nutr Metab (Lond)', [OrderedDict([('@Label', 'BACKGROUND'), ('@NlmCategory', 'BACKGROUND'), ('#text', 'Protein quality evaluation aims to determine the capacity of food sources and diets to meet protein and indispensable amino acid (IAA) requirements. This study determined whether nitrogen balance was affected and whether dietary IAA were adequately obtained from the ad libitum consumption of diets at three levels of protein from different primary sources for 12\\xa0days.')]), OrderedDict([('@Label', 'METHODS'), ('@NlmCategory', 'METHODS'), ('#text', 'Two 12-day randomized crossover design trials were conducted in healthy subjects [n\\u2009=\\u200970/67 (M/F); age: 19-70 y; BMI: 18.2-38.7\\xa0kg/m(2)]. The relative dietary protein content was lower than [5% of energy (En%)], similar to (15En%), and higher than (30En%) customary diets. These diets had a limited variety of protein sources, containing wheat protein as a single protein source (5En%-protein diet) or 5En% from wheat protein with 10En% (15En%-protein diets) or 25En% (30En%-protein diets) added from whey with α-lactalbumin, soy or beef protein.')]), OrderedDict([('@Label', 'RESULTS'), ('@NlmCategory', 'RESULTS'), ('#text', 'There was a dose-dependent increase in nitrogen excretion with increasing dietary protein content, irrespective of the protein sources (P\\u2009=\\u20090.001). Nitrogen balance was maintained on the 5En%-protein diet, and was positive on the 15En%- and 30En%-protein diets (P\\u2009<\\u20090.001) over 12\\xa0days. Protein intake from the 5En%-protein diet did not reach the amount necessary to meet the calculated minimal IAA requirements, but IAA were sufficiently obtained from the 15En%- and 30En%-protein diets. In the 15En%- and 30En%-protein conditions, a higher protein intake from the soy-containing diets than from the whey with α-lactalbumin or beef containing diets was needed to meet the minimal IAA requirements.')]), OrderedDict([('@Label', 'CONCLUSION'), ('@NlmCategory', 'CONCLUSIONS'), ('#text', 'Protein intake did not compensate for an insufficient indispensable amino acid intake with a low-protein diet for 12\\xa0days.')]), OrderedDict([('@Label', 'TRIAL REGISTRATION'), ('@NlmCategory', 'BACKGROUND'), ('#text', 'These trials were registered at clinicaltrials.gov as NCT01320189 and NCT01646749.')])])\n",
            "('Springerplus', OrderedDict([('#text', 'Ovarian clear cell carcinoma (CCC) is a histological type of epithelial ovarian cancer that is less responsive to chemotherapy and associated with a poorer prognosis than serous and endometrioid carcinoma. Non-thermal atmospheric pressure plasma which produces reactive species has recently led to an explosion of research in plasma medicine. Plasma treatment can be applied to cancer treatment to induce apoptosis and tumor growth arrest. Furthermore, recent studies have shown that a medium exposed to plasma also has an anti-proliferative effect against cancer in the absence of direct exposure to plasma. In this study, we confirmed whether this indirect plasma has an anti-tumor effect against CCC, and investigated whether this efficacy is selective for cancer cells. Non-thermal atmospheric pressure plasma induced apoptosis in CCC cells, while human peritoneal mesothelial cells remained viable. Non-thermal atmospheric pressure plasma exhibits selective cytotoxicity against CCC cells which are resistant to chemotherapy.')]))\n",
            "('Pest Manag Sci', [OrderedDict([('@Label', 'BACKGROUND'), ('@NlmCategory', 'BACKGROUND'), ('#text', '4-Hydroxyphenylpyruvate dioxygenase (HPPD) (EC 1.13.11.27) has been identified as one of the most promising target sites for herbicide discovery. To discover novel HPPD inhibitors with high herbicidal activity and improved crop selectivity, a series of novel triketone-containing quinazoline-2,4-dione derivatives possessing a variety of substituents at the N-1 position of the quinazoline-2,4-dione ring were designed and synthesised.')]), OrderedDict([('@Label', 'RESULTS'), ('@NlmCategory', 'RESULTS'), ('#text', 'The results of in vitro tests and greenhouse experiments indicated that some analogues showed good HPPD inhibitory activity, with promising broad-spectrum herbicidal activity at a rate of 150\\u2009g AI ha(-1) . Most surprisingly, compound 11\\u2009h, 1-ethyl-6-(2-hydroxy-6-oxocyclohex-1-enecarbonyl)-3-(o-tolyl)quinazoline-2,4(1H,3H)-dione, showed the highest HPPD inhibition activity, with a Ki value of 0.005 μM, about 2 times more potent than mesotrione (Ki \\u2009=\\u20090.013 μM). Further greenhouse experiments indicated that compounds 11d and 11\\u2009h displayed strong and broad-spectrum post-emergent herbicidal activity even at a dosage as low as 37.5\\u2009g AI ha(-1) , which was superior to mesotrione. More importantly, compounds 11d and 11\\u2009h were safe for maize at a rate of 150\\u2009g AI ha(-1) , and compound 11d was safe for wheat as well.')]), OrderedDict([('@Label', 'CONCLUSION'), ('@NlmCategory', 'CONCLUSIONS'), ('#text', 'The present work indicated that the triketone-containing quinazoline-2,4-dione motif could be a potential lead structure for further development of novel herbicides.')])])\n",
            "('Proc Natl Acad Sci U S A', OrderedDict([('#text', 'Staphylococcus aureus sortase A catalyzes the transpeptidation of an LPXTG peptide acceptor and a glycine-linked peptide donor and has proven to be a powerful tool for site-specific protein modification. The substrate specificity of sortase A is stringent, limiting its broader utility. Here we report the laboratory evolution of two orthogonal sortase A variants that recognize each of two altered substrates, LAXTG and LPXSG, with high activity and specificity. Following nine rounds of yeast display screening integrated with negative selection, the evolved sortases exhibit specificity changes of up to 51,000-fold, relative to the starting sortase without substantial loss of catalytic activity, and with up to 24-fold specificity for their target substrates, relative to their next most active peptide substrate. The specificities of these altered sortases are sufficiently orthogonal to enable the simultaneous conjugation of multiple peptide substrates to their respective targets in a single solution. We demonstrated the utility of these evolved sortases by using them to effect the site-specific modification of endogenous fetuin A in human plasma, the synthesis of tandem fluorophore-protein-PEG conjugates for two therapeutically relevant fibroblast growth factor proteins (FGF1 and FGF2), and the orthogonal conjugation of fluorescent peptides onto surfaces.')]))\n",
            "('Singapore Med J', OrderedDict([('#text', 'Fluorodeoxyglucose (FDG) hepatic superscan refers to the diffuse intense uptake of 18F-FDG in the liver on positron emission tomography (PET), with reduced physiological activity in the brain and heart. The common causes include lymphoma and metastasis. In this case report, we describe the imaging features of tuberculosis as a rare cause of FDG hepatic superscan. PET imaging may be the only clue to a diagnosis of hepatic tuberculosis, as other imaging modalities may demonstrate only nonspecific hepatomegaly. It is important to consider this entity in the differential diagnosis of patients presenting with FDG hepatic superscan and proceed with liver biopsy for a definitive diagnosis.')]))\n",
            "('Tanaffos', [OrderedDict([('@Label', 'BACKGROUND'), ('@NlmCategory', 'BACKGROUND'), ('#text', 'Ulcerative colitis is an inflammatory chronic disease which is believed to be a multi organ condition. The prevalence of ulcerative colitis is reportedly increasing in Iran presenting with the same clinical characteristics as in developing countries. Pulmonary manifestations of ulcerative colitis are increasingly reported. In this study, we investigated the incidence of bronchial hyper-responsiveness (BHR) in ulcerative colitis (UC) patients.')]), OrderedDict([('@Label', 'MATERIALS AND METHODS'), ('@NlmCategory', 'METHODS'), ('#text', 'Fifty-one UC patients with definite diagnosis referred to Shariati Hospital, Tehran, Iran, were selected to be evaluated with methacholine challenge test from October 2010 to October 2011. Patients were compared for their methacholine test outcome and its association with age, sex, diagnosis time, and disease activity.')]), OrderedDict([('@Label', 'RESULTS'), ('@NlmCategory', 'RESULTS'), ('#text', 'The median age was 41 (range 15 to 65) years. The median time of diagnosis was 7 (range <1 to 16) years. Forty-five percent were females, 18% had active disease and 13% had comorbidity. Nine percent of patients with UC had abnormal PFT in our study. Three cases (5%) had bronchial hyper-responsiveness that was not correlated with sex, age, time of diagnosis, or disease activity.')]), OrderedDict([('@Label', 'CONCLUSION'), ('@NlmCategory', 'CONCLUSIONS'), ('#text', 'A small number of ulcerative colitis patients in our study had disturbed pulmonary function test which is in concord with the findings of other studies. However, higher rates of bronchial hyper-responsiveness have been reported in other studies. Confounding factors like cigarette smoking and medications, which were negative or minimal in our study, may influence the results.')])])\n",
            "('Acta Orthop', [OrderedDict([('@Label', 'PURPOSE'), ('@NlmCategory', 'OBJECTIVE'), ('#text', 'We assessed whether an intramedullary lengthening device would reduce the problems normally associated with the external fixation technique. We also wanted to determine whether it is a reliable construct for limb lengthening and deformity correction in the femur.')]), OrderedDict([('@Label', 'PATIENTS AND METHODS'), ('@NlmCategory', 'METHODS'), ('#text', 'We conducted a matched-pair comparison of 30 femoral lengthenings, 15 with a motorized intramedullary nail (the nail group) and 15 lengthenings with an external ring fixator (the fixator group). The patients were matched based on age, sex, amount of lengthening, and the etiology of leg length discrepancy. Mean lengthening was 35 (25-55) mm in the nail group and 38 (15-75) mm in the fixator group. Outcome measures were: lengthening and alignment achieved, consolidation index, knee range of motion (ROM), and complications.')]), OrderedDict([('@Label', 'RESULTS'), ('@NlmCategory', 'RESULTS'), ('#text', 'The pairs in this matched-pair study were similar in terms of age, sex, diagnosis, and amount of lengthening. The planned amount of lengthening was achieved in all patients in both groups and axis correction was considered sufficient. The mean radiographic consolidation index in the nail group, at 1.5 (0.9-3.0) months/cm, was better than the mean value for the fixator group (1.9 (0.9-3.4) months/cm) (p = 0.01). Knee ROM was better in the nail group during the lengthening, 6 weeks after lengthening was completed, and 6 months after lengthening was completed (p < 0.001). A larger number of complications were observed in the fixator group than in the nail group.')]), OrderedDict([('@Label', 'INTERPRETATION'), ('@NlmCategory', 'CONCLUSIONS'), ('#text', 'A lengthening nail may be superior to external fixation in femoral lengthening, when the anatomical conditions and the complexity of the deformity allow the use of an intramedullary nail.')])])\n",
            "('Int J Pediatr Otorhinolaryngol', [OrderedDict([('@Label', 'INTRODUCTION'), ('@NlmCategory', 'BACKGROUND'), ('#text', 'Facial growth changes the position of the jaws (in particular vertical position of the maxilla and antero-posterior position of the mandible) and may, in turn, modify the position of the tongue and the hyoid bone, thus, generating modifications of the upper airway space. In the present paper, effects on upper airway space and tongue position of a new functional appliance, the swallowing occlusal contact intercept appliance (SOCIA) have been investigated.')]), OrderedDict([('@Label', 'MATERIALS AND METHODS'), ('@NlmCategory', 'METHODS'), ('#text', 'Retrospective cephaolmetric study of twenty-four children (mean age 9.46±1.60) with hyperdivergent Class II malocclusion with mandibular retrusion and atypical deglutition, was performed on radiographs taken before and after 24 months treatment with \"SOCIA\" appliance. The variables considered in this study, and analysed by means of a Paired t-test with a 5% level of significance, included the distance between the base of epiglottis (EB) and the tip of the tongue (TT), the distance from the tongue dorsum to EB-TT (TGH), the distance between the posterior nasal spine PNS and EB (VAL), SPAS, MAS and IAS (i.e. superior, medium and inferior pharyngeal airspace width).')]), OrderedDict([('@Label', 'RESULTS'), ('@NlmCategory', 'RESULTS'), ('#text', 'Our findings showed a significant increase in tongue length (TT-EB) and tongue height (TGH); thus, confirming the reposition of the tongue from a lower posture to its physiological position onto the palatal spot. These modifications of the tongue posture had effects on the upper airway space. The most important modifications were observed in SPAS, with a significant 5.9 mm increase. Some increase was found also for MAS (0.83 mm) and IAS (1.1 mm) but without statistical significance. A significant increase (7.75 mm) was also found for VAL, probably as a result of the augmentation of posterior facial height.')]), OrderedDict([('@Label', 'CONCLUSIONS'), ('@NlmCategory', 'CONCLUSIONS'), ('#text', 'SOCIA appliance is capable to improve tongue position and the superior posterior airway space, and, consequently, to improve deglutition, phonation and respiratory function.')])])\n"
          ],
          "name": "stdout"
        }
      ]
    },
    {
      "metadata": {
        "id": "2i-d_LrxzKQy",
        "colab_type": "text"
      },
      "cell_type": "markdown",
      "source": [
        ""
      ]
    }
  ]
}